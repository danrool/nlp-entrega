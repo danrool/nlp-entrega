{
  "nbformat": 4,
  "nbformat_minor": 0,
  "metadata": {
    "colab": {
      "provenance": [],
      "gpuType": "T4"
    },
    "kernelspec": {
      "name": "python3",
      "display_name": "Python 3"
    },
    "language_info": {
      "name": "python"
    },
    "accelerator": "GPU"
  },
  "cells": [
    {
      "cell_type": "markdown",
      "source": [
        "# 3 Entrenamiento y test de modelos"
      ],
      "metadata": {
        "id": "H6VbsBvJDVqj"
      }
    },
    {
      "cell_type": "code",
      "source": [
        "import pandas as pd\n",
        "import numpy as np"
      ],
      "metadata": {
        "id": "7VNeEjAaI8TY"
      },
      "execution_count": 1,
      "outputs": []
    },
    {
      "cell_type": "markdown",
      "source": [
        "### 3.0 Copio los archivos del Drive\n"
      ],
      "metadata": {
        "id": "Kb-rdenCe197"
      }
    },
    {
      "cell_type": "code",
      "source": [
        "from google.colab import drive\n",
        "\n",
        "# Monto Google Drive\n",
        "drive.mount('/content/drive', force_remount=True)"
      ],
      "metadata": {
        "colab": {
          "base_uri": "https://localhost:8080/"
        },
        "id": "a-2GoZNyfLQP",
        "outputId": "cf21c547-a10a-4e60-e301-01025447f27b"
      },
      "execution_count": 2,
      "outputs": [
        {
          "output_type": "stream",
          "name": "stdout",
          "text": [
            "Mounted at /content/drive\n"
          ]
        }
      ]
    },
    {
      "cell_type": "code",
      "source": [
        "# Copio los archivos del Drive\n",
        "\n",
        "!cp \"/content/drive/My Drive/Video_Games_Preprocessed.csv\" \"/content/Video_Games_Preprocessed.csv\"\n",
        "\n",
        "# Verifico que el archivo se haya descargado correctamente\n",
        "!ls -l \"/content/\""
      ],
      "metadata": {
        "colab": {
          "base_uri": "https://localhost:8080/"
        },
        "id": "bsW3vwT6evu4",
        "outputId": "60723732-9000-4cf4-d5fc-8adb86b04301"
      },
      "execution_count": 3,
      "outputs": [
        {
          "output_type": "stream",
          "name": "stdout",
          "text": [
            "total 19596\n",
            "drwx------ 5 root root     4096 Mar 28 15:40 drive\n",
            "drwxr-xr-x 1 root root     4096 Mar 26 13:28 sample_data\n",
            "-rw------- 1 root root 20054410 Mar 28 15:40 Video_Games_Preprocessed.csv\n"
          ]
        }
      ]
    },
    {
      "cell_type": "markdown",
      "source": [
        "###3.1 Carga de los datos generados en el notebook anterior"
      ],
      "metadata": {
        "id": "PNnzi4I4BW5s"
      }
    },
    {
      "cell_type": "code",
      "source": [
        "# Ruta al archivo CSV\n",
        "ruta_archivo_csv = f\"/content/Video_Games_Preprocessed.csv\"\n",
        "\n",
        "# Cargar el archivo CSV en un DataFrame\n",
        "df = pd.read_csv(ruta_archivo_csv)\n",
        "\n",
        "# Mostrar las primeras filas del DataFrame para verificar\n",
        "print(df.head())"
      ],
      "metadata": {
        "colab": {
          "base_uri": "https://localhost:8080/"
        },
        "id": "aeWjoRcODxa_",
        "outputId": "3602135c-d676-4fb2-e161-4394e8adb7d3"
      },
      "execution_count": 4,
      "outputs": [
        {
          "output_type": "stream",
          "name": "stdout",
          "text": [
            "   overall                                         reviewText  sentiment  \\\n",
            "0      4.0  I had to learn the hard way after ordering thi...          1   \n",
            "1      4.0  I would recommend this learning game for anyon...          1   \n",
            "2      5.0  Choose your career which sets your money for t...          1   \n",
            "3      5.0  It took a few hours to get this up and running...          1   \n",
            "4      5.0  I oredered this for a daughter who is now 33 a...          1   \n",
            "\n",
            "                                              tokens  \n",
            "0  ['learn', 'hard', 'way', 'ordering', 'macbook'...  \n",
            "1  ['would', 'recommend', 'learning', 'game', 'an...  \n",
            "2  ['choose', 'career', 'set', 'money', 'trip', '...  \n",
            "3  ['took', 'hour', 'get', 'running', 'window', '...  \n",
            "4  ['oredered', 'daughter', 'wanted', 'play', 'or...  \n"
          ]
        }
      ]
    },
    {
      "cell_type": "markdown",
      "source": [
        "###3.2 Division en train y test  |  Preparacion de los datos"
      ],
      "metadata": {
        "id": "lF_0Njt0ET11"
      }
    },
    {
      "cell_type": "code",
      "source": [
        "# Dividire los datos en train y test. Modificare los datos de texto formato numerico que los modelos puedan procesar como vectores de caracteristicas\n",
        "from sklearn.model_selection import train_test_split\n",
        "from sklearn.feature_extraction.text import CountVectorizer\n",
        "\n",
        "\n",
        "# Reemplazo los valores NaN en 'reviewText' por una cadena de texto vacía para evitar errores\n",
        "df['reviewText'] = df['reviewText'].fillna('')\n",
        "\n",
        "X = df['reviewText']  # Las características\n",
        "y = df['sentiment']   # Las etiquetas\n",
        "\n",
        "# Dividir los datos en entrenamiento y prueba\n",
        "X_train, X_test, y_train, y_test = train_test_split(X, y, test_size=0.2, random_state=42)\n",
        "\n",
        "# Vectorizacion de los textos a una representacion de Bag of Words\n",
        "vectorizer = CountVectorizer()\n",
        "X_train_vectorized = vectorizer.fit_transform(X_train)\n",
        "X_test_vectorized = vectorizer.transform(X_test)\n"
      ],
      "metadata": {
        "id": "sdEUrSvJETVS"
      },
      "execution_count": 5,
      "outputs": []
    },
    {
      "cell_type": "markdown",
      "source": [
        "### 3.3 Seleccion y entrenamiento de modelos simples\n",
        "Selecciono los modelos de :\n",
        "*   *Regresion lineal* por razones fundamentales y beneficios practico que el modelo ofrece. Podemos destar modelo basado en probailidad, flexible, buen rendimiento en espacios de caracteristicas grandes, robusto y eficiente en costos de computo.\n",
        "*   *Naive Bayes* por varias razones estrategicas y practicas relacionadas a las propiedades de este modelo. Entre ellas podemos destacar Simplicidad y eficiencia, basado en teorema de Bayes, buen rendimiento en datos de texto, rapido de entrenar.\n",
        "\n",
        "\n"
      ],
      "metadata": {
        "id": "CqNzUqZFFAJT"
      }
    },
    {
      "cell_type": "code",
      "source": [
        "# Importar librerias necesarias\n",
        "\n",
        "from sklearn.linear_model import LogisticRegression\n",
        "from sklearn.naive_bayes import MultinomialNB\n",
        "\n",
        "from sklearn.metrics import accuracy_score, classification_report\n",
        "from sklearn.preprocessing import StandardScaler"
      ],
      "metadata": {
        "id": "HnsyIrzQw3Fs"
      },
      "execution_count": 6,
      "outputs": []
    },
    {
      "cell_type": "code",
      "source": [
        "# Escalado de los datos\n",
        "\n",
        "# Preparar la escala de los datos\n",
        "scaler = StandardScaler(with_mean=False)  # with_mean=False es necesario para matrices dispersas\n",
        "X_train_scaled = scaler.fit_transform(X_train_vectorized)\n",
        "X_test_scaled = scaler.transform(X_test_vectorized)\n"
      ],
      "metadata": {
        "id": "2lPCD0fbE-gx"
      },
      "execution_count": 7,
      "outputs": []
    },
    {
      "cell_type": "code",
      "source": [
        "# Entrenar un modelo Regresion lineal\n",
        "\n",
        "model_lr = LogisticRegression(solver='saga', max_iter=100000)\n",
        "model_lr.fit(X_train_scaled, y_train)"
      ],
      "metadata": {
        "colab": {
          "base_uri": "https://localhost:8080/",
          "height": 75
        },
        "id": "2MNvw3TpB4kK",
        "outputId": "0421fe98-cb81-4e2f-d511-b05f1c3ebf76"
      },
      "execution_count": null,
      "outputs": [
        {
          "output_type": "execute_result",
          "data": {
            "text/plain": [
              "LogisticRegression(max_iter=100000, solver='saga')"
            ],
            "text/html": [
              "<style>#sk-container-id-1 {color: black;background-color: white;}#sk-container-id-1 pre{padding: 0;}#sk-container-id-1 div.sk-toggleable {background-color: white;}#sk-container-id-1 label.sk-toggleable__label {cursor: pointer;display: block;width: 100%;margin-bottom: 0;padding: 0.3em;box-sizing: border-box;text-align: center;}#sk-container-id-1 label.sk-toggleable__label-arrow:before {content: \"▸\";float: left;margin-right: 0.25em;color: #696969;}#sk-container-id-1 label.sk-toggleable__label-arrow:hover:before {color: black;}#sk-container-id-1 div.sk-estimator:hover label.sk-toggleable__label-arrow:before {color: black;}#sk-container-id-1 div.sk-toggleable__content {max-height: 0;max-width: 0;overflow: hidden;text-align: left;background-color: #f0f8ff;}#sk-container-id-1 div.sk-toggleable__content pre {margin: 0.2em;color: black;border-radius: 0.25em;background-color: #f0f8ff;}#sk-container-id-1 input.sk-toggleable__control:checked~div.sk-toggleable__content {max-height: 200px;max-width: 100%;overflow: auto;}#sk-container-id-1 input.sk-toggleable__control:checked~label.sk-toggleable__label-arrow:before {content: \"▾\";}#sk-container-id-1 div.sk-estimator input.sk-toggleable__control:checked~label.sk-toggleable__label {background-color: #d4ebff;}#sk-container-id-1 div.sk-label input.sk-toggleable__control:checked~label.sk-toggleable__label {background-color: #d4ebff;}#sk-container-id-1 input.sk-hidden--visually {border: 0;clip: rect(1px 1px 1px 1px);clip: rect(1px, 1px, 1px, 1px);height: 1px;margin: -1px;overflow: hidden;padding: 0;position: absolute;width: 1px;}#sk-container-id-1 div.sk-estimator {font-family: monospace;background-color: #f0f8ff;border: 1px dotted black;border-radius: 0.25em;box-sizing: border-box;margin-bottom: 0.5em;}#sk-container-id-1 div.sk-estimator:hover {background-color: #d4ebff;}#sk-container-id-1 div.sk-parallel-item::after {content: \"\";width: 100%;border-bottom: 1px solid gray;flex-grow: 1;}#sk-container-id-1 div.sk-label:hover label.sk-toggleable__label {background-color: #d4ebff;}#sk-container-id-1 div.sk-serial::before {content: \"\";position: absolute;border-left: 1px solid gray;box-sizing: border-box;top: 0;bottom: 0;left: 50%;z-index: 0;}#sk-container-id-1 div.sk-serial {display: flex;flex-direction: column;align-items: center;background-color: white;padding-right: 0.2em;padding-left: 0.2em;position: relative;}#sk-container-id-1 div.sk-item {position: relative;z-index: 1;}#sk-container-id-1 div.sk-parallel {display: flex;align-items: stretch;justify-content: center;background-color: white;position: relative;}#sk-container-id-1 div.sk-item::before, #sk-container-id-1 div.sk-parallel-item::before {content: \"\";position: absolute;border-left: 1px solid gray;box-sizing: border-box;top: 0;bottom: 0;left: 50%;z-index: -1;}#sk-container-id-1 div.sk-parallel-item {display: flex;flex-direction: column;z-index: 1;position: relative;background-color: white;}#sk-container-id-1 div.sk-parallel-item:first-child::after {align-self: flex-end;width: 50%;}#sk-container-id-1 div.sk-parallel-item:last-child::after {align-self: flex-start;width: 50%;}#sk-container-id-1 div.sk-parallel-item:only-child::after {width: 0;}#sk-container-id-1 div.sk-dashed-wrapped {border: 1px dashed gray;margin: 0 0.4em 0.5em 0.4em;box-sizing: border-box;padding-bottom: 0.4em;background-color: white;}#sk-container-id-1 div.sk-label label {font-family: monospace;font-weight: bold;display: inline-block;line-height: 1.2em;}#sk-container-id-1 div.sk-label-container {text-align: center;}#sk-container-id-1 div.sk-container {/* jupyter's `normalize.less` sets `[hidden] { display: none; }` but bootstrap.min.css set `[hidden] { display: none !important; }` so we also need the `!important` here to be able to override the default hidden behavior on the sphinx rendered scikit-learn.org. See: https://github.com/scikit-learn/scikit-learn/issues/21755 */display: inline-block !important;position: relative;}#sk-container-id-1 div.sk-text-repr-fallback {display: none;}</style><div id=\"sk-container-id-1\" class=\"sk-top-container\"><div class=\"sk-text-repr-fallback\"><pre>LogisticRegression(max_iter=100000, solver=&#x27;saga&#x27;)</pre><b>In a Jupyter environment, please rerun this cell to show the HTML representation or trust the notebook. <br />On GitHub, the HTML representation is unable to render, please try loading this page with nbviewer.org.</b></div><div class=\"sk-container\" hidden><div class=\"sk-item\"><div class=\"sk-estimator sk-toggleable\"><input class=\"sk-toggleable__control sk-hidden--visually\" id=\"sk-estimator-id-1\" type=\"checkbox\" checked><label for=\"sk-estimator-id-1\" class=\"sk-toggleable__label sk-toggleable__label-arrow\">LogisticRegression</label><div class=\"sk-toggleable__content\"><pre>LogisticRegression(max_iter=100000, solver=&#x27;saga&#x27;)</pre></div></div></div></div></div>"
            ]
          },
          "metadata": {},
          "execution_count": 8
        }
      ]
    },
    {
      "cell_type": "code",
      "source": [
        "# Entrenar un modelo Naive Bayes\n",
        "\n",
        "model_nb = MultinomialNB()\n",
        "model_nb.fit(X_train_scaled, y_train)"
      ],
      "metadata": {
        "colab": {
          "base_uri": "https://localhost:8080/",
          "height": 75
        },
        "id": "W3Uzz3Yw8Sef",
        "outputId": "1796c710-ff5c-4460-cf49-95e32346c935"
      },
      "execution_count": null,
      "outputs": [
        {
          "output_type": "execute_result",
          "data": {
            "text/plain": [
              "MultinomialNB()"
            ],
            "text/html": [
              "<style>#sk-container-id-2 {color: black;background-color: white;}#sk-container-id-2 pre{padding: 0;}#sk-container-id-2 div.sk-toggleable {background-color: white;}#sk-container-id-2 label.sk-toggleable__label {cursor: pointer;display: block;width: 100%;margin-bottom: 0;padding: 0.3em;box-sizing: border-box;text-align: center;}#sk-container-id-2 label.sk-toggleable__label-arrow:before {content: \"▸\";float: left;margin-right: 0.25em;color: #696969;}#sk-container-id-2 label.sk-toggleable__label-arrow:hover:before {color: black;}#sk-container-id-2 div.sk-estimator:hover label.sk-toggleable__label-arrow:before {color: black;}#sk-container-id-2 div.sk-toggleable__content {max-height: 0;max-width: 0;overflow: hidden;text-align: left;background-color: #f0f8ff;}#sk-container-id-2 div.sk-toggleable__content pre {margin: 0.2em;color: black;border-radius: 0.25em;background-color: #f0f8ff;}#sk-container-id-2 input.sk-toggleable__control:checked~div.sk-toggleable__content {max-height: 200px;max-width: 100%;overflow: auto;}#sk-container-id-2 input.sk-toggleable__control:checked~label.sk-toggleable__label-arrow:before {content: \"▾\";}#sk-container-id-2 div.sk-estimator input.sk-toggleable__control:checked~label.sk-toggleable__label {background-color: #d4ebff;}#sk-container-id-2 div.sk-label input.sk-toggleable__control:checked~label.sk-toggleable__label {background-color: #d4ebff;}#sk-container-id-2 input.sk-hidden--visually {border: 0;clip: rect(1px 1px 1px 1px);clip: rect(1px, 1px, 1px, 1px);height: 1px;margin: -1px;overflow: hidden;padding: 0;position: absolute;width: 1px;}#sk-container-id-2 div.sk-estimator {font-family: monospace;background-color: #f0f8ff;border: 1px dotted black;border-radius: 0.25em;box-sizing: border-box;margin-bottom: 0.5em;}#sk-container-id-2 div.sk-estimator:hover {background-color: #d4ebff;}#sk-container-id-2 div.sk-parallel-item::after {content: \"\";width: 100%;border-bottom: 1px solid gray;flex-grow: 1;}#sk-container-id-2 div.sk-label:hover label.sk-toggleable__label {background-color: #d4ebff;}#sk-container-id-2 div.sk-serial::before {content: \"\";position: absolute;border-left: 1px solid gray;box-sizing: border-box;top: 0;bottom: 0;left: 50%;z-index: 0;}#sk-container-id-2 div.sk-serial {display: flex;flex-direction: column;align-items: center;background-color: white;padding-right: 0.2em;padding-left: 0.2em;position: relative;}#sk-container-id-2 div.sk-item {position: relative;z-index: 1;}#sk-container-id-2 div.sk-parallel {display: flex;align-items: stretch;justify-content: center;background-color: white;position: relative;}#sk-container-id-2 div.sk-item::before, #sk-container-id-2 div.sk-parallel-item::before {content: \"\";position: absolute;border-left: 1px solid gray;box-sizing: border-box;top: 0;bottom: 0;left: 50%;z-index: -1;}#sk-container-id-2 div.sk-parallel-item {display: flex;flex-direction: column;z-index: 1;position: relative;background-color: white;}#sk-container-id-2 div.sk-parallel-item:first-child::after {align-self: flex-end;width: 50%;}#sk-container-id-2 div.sk-parallel-item:last-child::after {align-self: flex-start;width: 50%;}#sk-container-id-2 div.sk-parallel-item:only-child::after {width: 0;}#sk-container-id-2 div.sk-dashed-wrapped {border: 1px dashed gray;margin: 0 0.4em 0.5em 0.4em;box-sizing: border-box;padding-bottom: 0.4em;background-color: white;}#sk-container-id-2 div.sk-label label {font-family: monospace;font-weight: bold;display: inline-block;line-height: 1.2em;}#sk-container-id-2 div.sk-label-container {text-align: center;}#sk-container-id-2 div.sk-container {/* jupyter's `normalize.less` sets `[hidden] { display: none; }` but bootstrap.min.css set `[hidden] { display: none !important; }` so we also need the `!important` here to be able to override the default hidden behavior on the sphinx rendered scikit-learn.org. See: https://github.com/scikit-learn/scikit-learn/issues/21755 */display: inline-block !important;position: relative;}#sk-container-id-2 div.sk-text-repr-fallback {display: none;}</style><div id=\"sk-container-id-2\" class=\"sk-top-container\"><div class=\"sk-text-repr-fallback\"><pre>MultinomialNB()</pre><b>In a Jupyter environment, please rerun this cell to show the HTML representation or trust the notebook. <br />On GitHub, the HTML representation is unable to render, please try loading this page with nbviewer.org.</b></div><div class=\"sk-container\" hidden><div class=\"sk-item\"><div class=\"sk-estimator sk-toggleable\"><input class=\"sk-toggleable__control sk-hidden--visually\" id=\"sk-estimator-id-2\" type=\"checkbox\" checked><label for=\"sk-estimator-id-2\" class=\"sk-toggleable__label sk-toggleable__label-arrow\">MultinomialNB</label><div class=\"sk-toggleable__content\"><pre>MultinomialNB()</pre></div></div></div></div></div>"
            ]
          },
          "metadata": {},
          "execution_count": 9
        }
      ]
    },
    {
      "cell_type": "code",
      "source": [
        "# Guardo los modelos para posterior uso\n",
        "\n",
        "from joblib import dump\n",
        "\n",
        "dump(model_lr, 'model_lr.pkl')\n",
        "dump(model_nb, 'model_nb.pkl')\n"
      ],
      "metadata": {
        "colab": {
          "base_uri": "https://localhost:8080/"
        },
        "id": "eO0H4fWIrCtg",
        "outputId": "63bfce37-016f-442d-e903-9d4e9c883b48"
      },
      "execution_count": null,
      "outputs": [
        {
          "output_type": "execute_result",
          "data": {
            "text/plain": [
              "['model_nb.pkl']"
            ]
          },
          "metadata": {},
          "execution_count": 15
        }
      ]
    },
    {
      "cell_type": "code",
      "source": [
        "# Copio los modelos de Colab a Drive\n",
        "\n",
        "!cp \"/content/model_lr.pkl\" \"/content/drive/My Drive/model_lr.pkl\"\n",
        "!cp \"/content/model_nb.pkl\" \"/content/drive/My Drive/model_nb.pkl\""
      ],
      "metadata": {
        "id": "MPc6swaMkqPz"
      },
      "execution_count": null,
      "outputs": []
    },
    {
      "cell_type": "code",
      "source": [
        "# Guardo los datos procesados\n",
        "\n",
        "import numpy as np\n",
        "from scipy.sparse import save_npz, load_npz\n",
        "\n",
        "# Guardo X_train y X_test\n",
        "save_npz('/content/X_train_scaled.npz', X_train_scaled)\n",
        "save_npz('/content/X_test_scaled.npz', X_test_scaled)\n",
        "\n",
        "# Guardo y_test como archivos .npy\n",
        "np.save('/content/y_test.npy', y_test)\n"
      ],
      "metadata": {
        "id": "PiAFoZ3LHhpa"
      },
      "execution_count": null,
      "outputs": []
    },
    {
      "cell_type": "code",
      "source": [
        "# Copiar datos de Colab a Drive\n",
        "!cp \"/content/X_train_scaled.npz\" \"/content/drive/My Drive/X_train_scaled.npz\"\n",
        "!cp \"/content/X_test_scaled.npz\" \"/content/drive/My Drive/X_test_scaled.npz\"\n",
        "!cp \"/content/y_test.npy\" \"/content/drive/My Drive/y_test.npy\""
      ],
      "metadata": {
        "id": "PhZfkTL4kcxI"
      },
      "execution_count": null,
      "outputs": []
    },
    {
      "cell_type": "markdown",
      "source": [
        "###3.4 Evaluación de los Modelos"
      ],
      "metadata": {
        "id": "4YzCGj5SFeyQ"
      }
    },
    {
      "cell_type": "code",
      "source": [
        "# Preprocesamiento para RNN y LSTM\n",
        "\n",
        "from tensorflow.keras.preprocessing.text import Tokenizer\n",
        "from tensorflow.keras.preprocessing.sequence import pad_sequences\n",
        "\n",
        "# Tokenizacion\n",
        "tokenizer = Tokenizer(num_words=500)  # Conserva solo las 500 palabras más comunes\n",
        "tokenizer.fit_on_texts(X_train)\n",
        "\n",
        "X_train_tokens = tokenizer.texts_to_sequences(X_train)\n",
        "X_test_tokens = tokenizer.texts_to_sequences(X_test)\n",
        "\n",
        "# Pading\n",
        "max_length = max([len(x) for x in X_train_tokens])  # Considerar un límite máximo si es muy grande\n",
        "\n",
        "X_train_pad = pad_sequences(X_train_tokens, maxlen=max_length, padding='post')\n",
        "X_test_pad = pad_sequences(X_test_tokens, maxlen=max_length, padding='post')"
      ],
      "metadata": {
        "id": "lRkfblWBue92"
      },
      "execution_count": 6,
      "outputs": []
    },
    {
      "cell_type": "code",
      "source": [
        "# Guardo en X_test_pad para su posterior uso\n",
        "\n",
        "np.save('/content/X_test_pad.npy', X_test_pad)"
      ],
      "metadata": {
        "id": "k-WODTQqkP_y"
      },
      "execution_count": 10,
      "outputs": []
    },
    {
      "cell_type": "code",
      "source": [
        "# Copio X_test_pad de Colab al Drive para su posterior uso\n",
        "\n",
        "!cp \"/content/X_test_pad.npy\" \"/content/drive/My Drive/X_test_pad.npy\""
      ],
      "metadata": {
        "id": "S2ReBTN9z9Dr"
      },
      "execution_count": 11,
      "outputs": []
    },
    {
      "cell_type": "code",
      "source": [
        "# Implmentando una RNN\n",
        "from tensorflow.keras.models import Sequential\n",
        "from tensorflow.keras.layers import Embedding, SimpleRNN, Dense\n",
        "\n",
        "model_rnn = Sequential([\n",
        "    Embedding(input_dim=500, output_dim=64, input_length=max_length),\n",
        "    SimpleRNN(64),\n",
        "    Dense(1, activation='sigmoid')\n",
        "])\n",
        "\n",
        "model_rnn.compile(optimizer='adam', loss='binary_crossentropy', metrics=['accuracy'])\n",
        "model_rnn.summary()\n",
        "\n",
        "# Entrenamiento\n",
        "model_rnn.fit(X_train_pad, y_train, epochs=5, validation_data=(X_test_pad, y_test))"
      ],
      "metadata": {
        "colab": {
          "base_uri": "https://localhost:8080/"
        },
        "id": "9BDSMjVxumVo",
        "outputId": "3216a70a-d2eb-4b0a-bb00-9450b855bbf8"
      },
      "execution_count": 21,
      "outputs": [
        {
          "output_type": "stream",
          "name": "stdout",
          "text": [
            "Model: \"sequential\"\n",
            "_________________________________________________________________\n",
            " Layer (type)                Output Shape              Param #   \n",
            "=================================================================\n",
            " embedding (Embedding)       (None, 2351, 64)          32000     \n",
            "                                                                 \n",
            " simple_rnn (SimpleRNN)      (None, 64)                8256      \n",
            "                                                                 \n",
            " dense (Dense)               (None, 1)                 65        \n",
            "                                                                 \n",
            "=================================================================\n",
            "Total params: 40321 (157.50 KB)\n",
            "Trainable params: 40321 (157.50 KB)\n",
            "Non-trainable params: 0 (0.00 Byte)\n",
            "_________________________________________________________________\n",
            "Epoch 1/5\n",
            "500/500 [==============================] - 601s 1s/step - loss: 0.6973 - accuracy: 0.4957 - val_loss: 0.6934 - val_accuracy: 0.4952\n",
            "Epoch 2/5\n",
            "500/500 [==============================] - 681s 1s/step - loss: 0.6949 - accuracy: 0.4979 - val_loss: 0.6932 - val_accuracy: 0.4952\n",
            "Epoch 3/5\n",
            "500/500 [==============================] - 603s 1s/step - loss: 0.6944 - accuracy: 0.4962 - val_loss: 0.6942 - val_accuracy: 0.4952\n",
            "Epoch 4/5\n",
            "500/500 [==============================] - 601s 1s/step - loss: 0.6946 - accuracy: 0.5003 - val_loss: 0.6933 - val_accuracy: 0.5045\n",
            "Epoch 5/5\n",
            "500/500 [==============================] - 596s 1s/step - loss: 0.6941 - accuracy: 0.5088 - val_loss: 0.6946 - val_accuracy: 0.4952\n"
          ]
        },
        {
          "output_type": "execute_result",
          "data": {
            "text/plain": [
              "<keras.src.callbacks.History at 0x7c15ac376050>"
            ]
          },
          "metadata": {},
          "execution_count": 21
        }
      ]
    },
    {
      "cell_type": "code",
      "source": [
        "# Para guardar el modelo RNN\n",
        "model_rnn.save('/content/model_rnn.keras')"
      ],
      "metadata": {
        "id": "sLBgKwWPglS9"
      },
      "execution_count": 23,
      "outputs": []
    },
    {
      "cell_type": "code",
      "source": [
        "# Copiar el modelos al Drive\n",
        "!cp \"/content/model_rnn.keras\" \"/content/drive/My Drive/model_rnn.keras\""
      ],
      "metadata": {
        "id": "7CQc-hBrkIga"
      },
      "execution_count": 24,
      "outputs": []
    },
    {
      "cell_type": "code",
      "source": [
        "# Implemento una LSTM\n",
        "\n",
        "from tensorflow.keras.models import Sequential\n",
        "from tensorflow.keras.layers import Embedding, SimpleRNN, Dense\n",
        "from tensorflow.keras.layers import LSTM\n",
        "\n",
        "model_lstm = Sequential([\n",
        "    Embedding(input_dim=500, output_dim=64, input_length=max_length),\n",
        "    LSTM(64),\n",
        "    Dense(1, activation='sigmoid')\n",
        "])\n",
        "\n",
        "model_lstm.compile(optimizer='adam', loss='binary_crossentropy', metrics=['accuracy'])\n",
        "model_lstm.summary()\n",
        "\n",
        "# Entrenamiento\n",
        "model_lstm.fit(X_train_pad, y_train, epochs=10, validation_data=(X_test_pad, y_test))\n"
      ],
      "metadata": {
        "id": "Gz-ENxIJu4kw",
        "colab": {
          "base_uri": "https://localhost:8080/"
        },
        "outputId": "62c605ae-cdaa-47b8-c8c4-d33a6b307f68"
      },
      "execution_count": null,
      "outputs": [
        {
          "output_type": "stream",
          "name": "stdout",
          "text": [
            "Model: \"sequential\"\n",
            "_________________________________________________________________\n",
            " Layer (type)                Output Shape              Param #   \n",
            "=================================================================\n",
            " embedding (Embedding)       (None, 2351, 64)          32000     \n",
            "                                                                 \n",
            " lstm (LSTM)                 (None, 64)                33024     \n",
            "                                                                 \n",
            " dense (Dense)               (None, 1)                 65        \n",
            "                                                                 \n",
            "=================================================================\n",
            "Total params: 65089 (254.25 KB)\n",
            "Trainable params: 65089 (254.25 KB)\n",
            "Non-trainable params: 0 (0.00 Byte)\n",
            "_________________________________________________________________\n",
            "Epoch 1/10\n",
            "500/500 [==============================] - 60s 114ms/step - loss: 0.6935 - accuracy: 0.4962 - val_loss: 0.6931 - val_accuracy: 0.5048\n",
            "Epoch 2/10\n",
            "500/500 [==============================] - 39s 78ms/step - loss: 0.6933 - accuracy: 0.4963 - val_loss: 0.6932 - val_accuracy: 0.4952\n",
            "Epoch 3/10\n",
            "500/500 [==============================] - 39s 78ms/step - loss: 0.6932 - accuracy: 0.4980 - val_loss: 0.6932 - val_accuracy: 0.4955\n",
            "Epoch 4/10\n",
            "500/500 [==============================] - 37s 74ms/step - loss: 0.6932 - accuracy: 0.4947 - val_loss: 0.6931 - val_accuracy: 0.5048\n",
            "Epoch 5/10\n",
            "500/500 [==============================] - 39s 78ms/step - loss: 0.6932 - accuracy: 0.4947 - val_loss: 0.6932 - val_accuracy: 0.4955\n",
            "Epoch 6/10\n",
            "500/500 [==============================] - 38s 75ms/step - loss: 0.6933 - accuracy: 0.4958 - val_loss: 0.6931 - val_accuracy: 0.5048\n",
            "Epoch 7/10\n",
            "500/500 [==============================] - 36s 72ms/step - loss: 0.6932 - accuracy: 0.4971 - val_loss: 0.6932 - val_accuracy: 0.4955\n",
            "Epoch 8/10\n",
            "500/500 [==============================] - 37s 75ms/step - loss: 0.6932 - accuracy: 0.4983 - val_loss: 0.6932 - val_accuracy: 0.4952\n",
            "Epoch 9/10\n",
            "500/500 [==============================] - 35s 71ms/step - loss: 0.6932 - accuracy: 0.4974 - val_loss: 0.6933 - val_accuracy: 0.4952\n",
            "Epoch 10/10\n",
            "500/500 [==============================] - 37s 74ms/step - loss: 0.6932 - accuracy: 0.4996 - val_loss: 0.6933 - val_accuracy: 0.4952\n"
          ]
        },
        {
          "output_type": "execute_result",
          "data": {
            "text/plain": [
              "<keras.src.callbacks.History at 0x792d892d5e70>"
            ]
          },
          "metadata": {},
          "execution_count": 13
        }
      ]
    },
    {
      "cell_type": "code",
      "source": [
        "# Para guardar el modelo LSTM\n",
        "model_lstm.save('/content/model_lstm.h5')"
      ],
      "metadata": {
        "id": "GA9Dg4Ptfqo0"
      },
      "execution_count": null,
      "outputs": []
    },
    {
      "cell_type": "code",
      "source": [
        "# Copiar el modelos al Drive\n",
        "!cp \"/content/model_lstm.h5\" \"/content/drive/My Drive/model_lstm.h5\""
      ],
      "metadata": {
        "id": "L04e796PjymS"
      },
      "execution_count": null,
      "outputs": []
    }
  ]
}